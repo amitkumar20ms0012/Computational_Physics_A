{
 "cells": [
  {
   "cell_type": "markdown",
   "metadata": {},
   "source": [
    "Q 17 "
   ]
  },
  {
   "cell_type": "code",
   "execution_count": 1,
   "metadata": {},
   "outputs": [
    {
     "name": "stdout",
     "output_type": "stream",
     "text": [
      "Eigenvalues using QR decomposition: [9. 4.]\n",
      "Eigenvalues using numpy.linalg.eigh: [4. 9.]\n"
     ]
    }
   ],
   "source": [
    "import numpy as np\n",
    "\n",
    "def qr_eigenvalues(A, max_iterations=1000, tol=1e-10):\n",
    "    n = A.shape[0]\n",
    "    V = np.eye(n)\n",
    "\n",
    "    for i in range(max_iterations):\n",
    "        Q, R = np.linalg.qr(A)\n",
    "        A = np.dot(R, Q)\n",
    "        V = np.dot(V, Q)\n",
    "\n",
    "        # Check if off-diagonal elements are small enough for convergence\n",
    "        off_diag = np.sum(np.abs(A - np.diag(np.diagonal(A))))\n",
    "        if off_diag < tol:\n",
    "            break\n",
    "\n",
    "    eigenvalues = np.diagonal(A)\n",
    "    return eigenvalues\n",
    "\n",
    "A = np.array([[5, -2],\n",
    "              [-2, 8]])\n",
    "\n",
    "# Eigenvalues using QR decomposition method\n",
    "eigenvalues_qr = qr_eigenvalues(A)\n",
    "print(\"Eigenvalues using QR decomposition:\", eigenvalues_qr)\n",
    "\n",
    "# Eigenvalues using numpy.linalg.eigh\n",
    "eigenvalues_numpy, _ = np.linalg.eigh(A)\n",
    "print(\"Eigenvalues using numpy.linalg.eigh:\", eigenvalues_numpy)\n"
   ]
  }
 ],
 "metadata": {
  "kernelspec": {
   "display_name": "Python 3",
   "language": "python",
   "name": "python3"
  },
  "language_info": {
   "codemirror_mode": {
    "name": "ipython",
    "version": 3
   },
   "file_extension": ".py",
   "mimetype": "text/x-python",
   "name": "python",
   "nbconvert_exporter": "python",
   "pygments_lexer": "ipython3",
   "version": "3.11.4"
  }
 },
 "nbformat": 4,
 "nbformat_minor": 2
}
