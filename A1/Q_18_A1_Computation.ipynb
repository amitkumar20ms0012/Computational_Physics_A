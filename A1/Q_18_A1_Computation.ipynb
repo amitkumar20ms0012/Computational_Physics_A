{
 "cells": [
  {
   "cell_type": "markdown",
   "metadata": {},
   "source": [
    "Q. 18"
   ]
  },
  {
   "cell_type": "code",
   "execution_count": 6,
   "metadata": {},
   "outputs": [
    {
     "name": "stdout",
     "output_type": "stream",
     "text": [
      "Dominant Eigenvalue: 2.4142135090074035\n",
      "Dominant Eigenvector: [ 0.50000001 -0.70710677  0.50000001]\n"
     ]
    }
   ],
   "source": [
    "import numpy as np\n",
    "\n",
    "def power_method(A, epsilon=1e-6, max_iterations=1000):\n",
    "    n = len(A)\n",
    "    x = np.ones(n)  # Initial guess for the eigenvector\n",
    "    eigenvalue_old = 0\n",
    "\n",
    "    for i in range(max_iterations):\n",
    "        x = np.dot(A, x)\n",
    "        eigenvalue = np.linalg.norm(x, ord=np.inf)  # Approximation of eigenvalue\n",
    "        x = x / np.linalg.norm(x)  # Normalizing the eigenvector\n",
    "\n",
    "        # Check for convergence\n",
    "        if np.abs(eigenvalue - eigenvalue_old) < epsilon:\n",
    "            break\n",
    "\n",
    "        eigenvalue_old = eigenvalue\n",
    "\n",
    "    return eigenvalue, x\n",
    "\n",
    "# Define the matrix A\n",
    "A = np.array([[2, -1, 0],\n",
    "              [-1, 2, -1],\n",
    "              [0, -1, 2]])\n",
    "\n",
    "# Apply the Power Method\n",
    "dominant_eigenvalue, dominant_eigenvector = power_method(A)\n",
    "\n",
    "print(\"Dominant Eigenvalue:\", dominant_eigenvalue)\n",
    "print(\"Dominant Eigenvector:\", dominant_eigenvector)\n"
   ]
  }
 ],
 "metadata": {
  "kernelspec": {
   "display_name": "Python 3",
   "language": "python",
   "name": "python3"
  },
  "language_info": {
   "codemirror_mode": {
    "name": "ipython",
    "version": 3
   },
   "file_extension": ".py",
   "mimetype": "text/x-python",
   "name": "python",
   "nbconvert_exporter": "python",
   "pygments_lexer": "ipython3",
   "version": "3.11.4"
  }
 },
 "nbformat": 4,
 "nbformat_minor": 2
}
