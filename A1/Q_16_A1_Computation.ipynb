{
 "cells": [
  {
   "cell_type": "markdown",
   "metadata": {},
   "source": [
    "Q 16. Jacobi Methord"
   ]
  },
  {
   "cell_type": "code",
   "execution_count": 12,
   "metadata": {},
   "outputs": [
    {
     "name": "stdout",
     "output_type": "stream",
     "text": [
      "Jacobi Method:\n",
      "Solution: [ 7.83268148  0.4216479  -0.07373429 -0.54202739  0.01060267]\n",
      "Iterations: 38\n"
     ]
    },
    {
     "name": "stderr",
     "output_type": "stream",
     "text": [
      "C:\\Users\\user\\AppData\\Local\\Temp\\ipykernel_24432\\3387248051.py:19: DeprecationWarning: Conversion of an array with ndim > 0 to a scalar is deprecated, and will error in future. Ensure you extract a single element from your array before performing this operation. (Deprecated NumPy 1.25.)\n",
      "  x_new[i] = (b[i] - np.dot(A[i, :i], x[:i]) - np.dot(A[i, i+1:], x[i+1:])) / A[i, i]\n"
     ]
    }
   ],
   "source": [
    "import numpy as np\n",
    "\n",
    "A = np.array([[0.2, 0.1, 1, 1, 0],\n",
    "              [0.1, 4, -1, 1, -1],\n",
    "              [1, -1, 60, 0, -2],\n",
    "              [1, 1, 0, 8, 4],\n",
    "              [0, -1, -2, 4, 700]])\n",
    "\n",
    "b = np.array([[1],[2],[3],[4],[5]])\n",
    "x_true = np.array([7.859713071, 0.422926408, -0.073592239, -0.540643016, 0.010626163])\n",
    "\n",
    "def jacobi(A, b, x_true, tol=0.01):\n",
    "    n = len(b)\n",
    "    x = np.zeros(n)\n",
    "    iterations = 0\n",
    "    while True:\n",
    "        x_new = np.zeros_like(x)\n",
    "        for i in range(n):\n",
    "            x_new[i] = (b[i] - np.dot(A[i, :i], x[:i]) - np.dot(A[i, i+1:], x[i+1:])) / A[i, i]\n",
    "        if np.linalg.norm(x_new - x_true) < tol:\n",
    "            break\n",
    "        x = x_new\n",
    "        iterations += 1\n",
    "    return x, iterations\n",
    "\n",
    "# Solving using Jacobi method\n",
    "x_jacobi, iterations_jacobi = jacobi(A, b, x_true)\n",
    "print(\"Jacobi Method:\")\n",
    "print(\"Solution:\", x_jacobi)\n",
    "print(\"Iterations:\", iterations_jacobi)\n"
   ]
  },
  {
   "cell_type": "markdown",
   "metadata": {},
   "source": [
    "Gauss-Seidel method"
   ]
  },
  {
   "cell_type": "code",
   "execution_count": 13,
   "metadata": {},
   "outputs": [
    {
     "name": "stdout",
     "output_type": "stream",
     "text": [
      "Gauss-Seidel Method:\n",
      "Solution: [ 7.84734244  0.42275051 -0.0733894  -0.53906861  0.01061749]\n",
      "Iterations: 17\n"
     ]
    },
    {
     "name": "stderr",
     "output_type": "stream",
     "text": [
      "C:\\Users\\user\\AppData\\Local\\Temp\\ipykernel_24432\\4277810129.py:19: DeprecationWarning: Conversion of an array with ndim > 0 to a scalar is deprecated, and will error in future. Ensure you extract a single element from your array before performing this operation. (Deprecated NumPy 1.25.)\n",
      "  x_new[i] = (b[i] - np.dot(A[i, :i], x_new[:i]) - np.dot(A[i, i+1:], x[i+1:])) / A[i, i]\n"
     ]
    }
   ],
   "source": [
    "import numpy as np\n",
    "\n",
    "A = np.array([[0.2, 0.1, 1, 1, 0],\n",
    "              [0.1, 4, -1, 1, -1],\n",
    "              [1, -1, 60, 0, -2],\n",
    "              [1, 1, 0, 8, 4],\n",
    "              [0, -1, -2, 4, 700]])\n",
    "\n",
    "b = np.array([[1],[2],[3],[4],[5]])\n",
    "x_true = np.array([7.859713071, 0.422926408, -0.073592239, -0.540643016, 0.010626163])\n",
    "\n",
    "def gauss_seidel(A, b, x_true, tol=0.01):\n",
    "    n = len(b)\n",
    "    x = np.zeros(n)\n",
    "    iterations = 0\n",
    "    while True:\n",
    "        x_new = np.zeros_like(x)\n",
    "        for i in range(n):\n",
    "            x_new[i] = (b[i] - np.dot(A[i, :i], x_new[:i]) - np.dot(A[i, i+1:], x[i+1:])) / A[i, i]\n",
    "        if np.linalg.norm(x_new - x_true) < tol:\n",
    "            break\n",
    "        x = x_new\n",
    "        iterations += 1\n",
    "    return x, iterations\n",
    "\n",
    "# Solving using Gauss-Seidel method\n",
    "x_gauss_seidel, iterations_gauss_seidel = gauss_seidel(A, b, x_true)\n",
    "print(\"Gauss-Seidel Method:\")\n",
    "print(\"Solution:\", x_gauss_seidel)\n",
    "print(\"Iterations:\", iterations_gauss_seidel)\n"
   ]
  },
  {
   "cell_type": "markdown",
   "metadata": {},
   "source": [
    " Relaxation method"
   ]
  },
  {
   "cell_type": "code",
   "execution_count": 14,
   "metadata": {},
   "outputs": [
    {
     "name": "stdout",
     "output_type": "stream",
     "text": [
      "Relaxation Method:\n",
      "Solution: [ 7.84250543  0.42258334 -0.07336146 -0.53884142  0.0106153 ]\n",
      "Iterations: 6\n"
     ]
    },
    {
     "name": "stderr",
     "output_type": "stream",
     "text": [
      "C:\\Users\\user\\AppData\\Local\\Temp\\ipykernel_24432\\123485268.py:19: DeprecationWarning: Conversion of an array with ndim > 0 to a scalar is deprecated, and will error in future. Ensure you extract a single element from your array before performing this operation. (Deprecated NumPy 1.25.)\n",
      "  x_new[i] = (1 - w) * x[i] + (w / A[i, i]) * (b[i] - np.dot(A[i, :i], x_new[:i]) - np.dot(A[i, i+1:], x[i+1:]))\n"
     ]
    }
   ],
   "source": [
    "import numpy as np\n",
    "\n",
    "A = np.array([[0.2, 0.1, 1, 1, 0],\n",
    "              [0.1, 4, -1, 1, -1],\n",
    "              [1, -1, 60, 0, -2],\n",
    "              [1, 1, 0, 8, 4],\n",
    "              [0, -1, -2, 4, 700]])\n",
    "\n",
    "b = np.array([[1],[2],[3],[4],[5]])\n",
    "x_true = np.array([7.859713071, 0.422926408, -0.073592239, -0.540643016, 0.010626163])\n",
    "\n",
    "def relaxation(A, b, x_true, w=1.25, tol=0.01):\n",
    "    n = len(b)\n",
    "    x = np.zeros(n)\n",
    "    iterations = 0\n",
    "    while True:\n",
    "        x_new = np.zeros_like(x)\n",
    "        for i in range(n):\n",
    "            x_new[i] = (1 - w) * x[i] + (w / A[i, i]) * (b[i] - np.dot(A[i, :i], x_new[:i]) - np.dot(A[i, i+1:], x[i+1:]))\n",
    "        if np.linalg.norm(x_new - x_true) < tol:\n",
    "            break\n",
    "        x = x_new\n",
    "        iterations += 1\n",
    "    return x, iterations\n",
    "\n",
    "# Solving using Relaxation method\n",
    "x_relaxation, iterations_relaxation = relaxation(A, b, x_true, w=1.25)\n",
    "print(\"Relaxation Method:\")\n",
    "print(\"Solution:\", x_relaxation)\n",
    "print(\"Iterations:\", iterations_relaxation)\n"
   ]
  },
  {
   "cell_type": "markdown",
   "metadata": {},
   "source": [
    "Conjugate Gradient method"
   ]
  },
  {
   "cell_type": "code",
   "execution_count": 15,
   "metadata": {},
   "outputs": [
    {
     "name": "stdout",
     "output_type": "stream",
     "text": [
      "Conjugate Gradient Method:\n",
      "Solution: [[ 7.85971308]\n",
      " [ 0.42292641]\n",
      " [-0.07359224]\n",
      " [-0.54064302]\n",
      " [ 0.01062616]]\n",
      "Iterations: 4\n"
     ]
    }
   ],
   "source": [
    "import numpy as np\n",
    "\n",
    "A = np.array([[0.2, 0.1, 1, 1, 0],\n",
    "              [0.1, 4, -1, 1, -1],\n",
    "              [1, -1, 60, 0, -2],\n",
    "              [1, 1, 0, 8, 4],\n",
    "              [0, -1, -2, 4, 700]])\n",
    "\n",
    "b = np.array([[1],[2],[3],[4],[5]])\n",
    "x_true = np.array([7.859713071, 0.422926408, -0.073592239, -0.540643016, 0.010626163])\n",
    "\n",
    "def conjugate_gradient(A, b, x_true, tol=0.01):\n",
    "    x = np.zeros_like(b)\n",
    "    r = b - np.dot(A, x)\n",
    "    p = r.copy()\n",
    "    iterations = 0\n",
    "    while True:\n",
    "        alpha = np.dot(r.T, r) / np.dot(np.dot(p.T, A), p)\n",
    "        x = x + alpha * p\n",
    "        r_new = r - alpha * np.dot(A, p)\n",
    "        beta = np.dot(r_new.T, r_new) / np.dot(r.T, r)\n",
    "        p = r_new + beta * p\n",
    "        if np.linalg.norm(r_new) < tol:\n",
    "            break\n",
    "        r = r_new\n",
    "        iterations += 1\n",
    "    return x, iterations\n",
    "\n",
    "# Solving using Conjugate Gradient method\n",
    "x_conjugate_gradient, iterations_conjugate_gradient = conjugate_gradient(A, b, x_true)\n",
    "print(\"Conjugate Gradient Method:\")\n",
    "print(\"Solution:\", x_conjugate_gradient)\n",
    "print(\"Iterations:\", iterations_conjugate_gradient)\n"
   ]
  }
 ],
 "metadata": {
  "kernelspec": {
   "display_name": "Python 3",
   "language": "python",
   "name": "python3"
  },
  "language_info": {
   "codemirror_mode": {
    "name": "ipython",
    "version": 3
   },
   "file_extension": ".py",
   "mimetype": "text/x-python",
   "name": "python",
   "nbconvert_exporter": "python",
   "pygments_lexer": "ipython3",
   "version": "3.11.4"
  }
 },
 "nbformat": 4,
 "nbformat_minor": 2
}
