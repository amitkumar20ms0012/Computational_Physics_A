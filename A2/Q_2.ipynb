{
 "cells": [
  {
   "cell_type": "markdown",
   "metadata": {},
   "source": [
    "Q. 2"
   ]
  },
  {
   "cell_type": "code",
   "execution_count": 4,
   "metadata": {},
   "outputs": [
    {
     "name": "stdout",
     "output_type": "stream",
     "text": [
      "t\tAnalytical\tNumerical\tAbsolute Error\tRelative Error\n",
      "1.0\t1.000000\t1.000000\t0.000000\t0.000000\n",
      "1.1\t1.004282\t1.000000\t0.004282\t0.004263\n",
      "1.2\t1.014952\t1.008264\t0.006688\t0.006589\n",
      "1.3\t1.029814\t1.021689\t0.008124\t0.007889\n",
      "1.4\t1.047534\t1.038515\t0.009019\t0.008610\n",
      "1.5\t1.067262\t1.057668\t0.009594\t0.008990\n",
      "1.6\t1.088433\t1.078461\t0.009972\t0.009161\n",
      "1.7\t1.110655\t1.100432\t0.010223\t0.009204\n",
      "1.8\t1.133654\t1.123262\t0.010392\t0.009166\n",
      "1.9\t1.157228\t1.146724\t0.010505\t0.009078\n",
      "2.0\t1.181232\t1.170652\t0.010581\t0.008957\n"
     ]
    }
   ],
   "source": [
    "import math\n",
    "\n",
    "def euler_method(dy_dt, t0, y0, h, num_steps):\n",
    "    t_values = [t0]\n",
    "    y_values = [y0]\n",
    "    \n",
    "    t_current = t0\n",
    "    y_current = y0\n",
    "    \n",
    "    for _ in range(num_steps):\n",
    "        t_next = t_current + h\n",
    "        y_next = y_current + h * dy_dt(t_current, y_current)\n",
    "        t_values.append(t_next)\n",
    "        y_values.append(y_next)\n",
    "        \n",
    "        t_current = t_next\n",
    "        y_current = y_next\n",
    "    \n",
    "    return t_values, y_values\n",
    "\n",
    "# Define the differential equation dy/dt = y/t - y^2\n",
    "def dy_dt(t, y):\n",
    "    return (y / t) - (y/t)**2\n",
    "\n",
    "# Analytical solution of the differential equation\n",
    "def analytical_solution(t):\n",
    "    return t / (1 + math.log(t) )\n",
    "\n",
    "# Initial condition y(1) = 1\n",
    "t0 = 1\n",
    "y0 = 1\n",
    "# Step size\n",
    "h = 0.1\n",
    "# Number of steps\n",
    "num_steps = int(1 / h)\n",
    "\n",
    "# Compute the numerical solution using Euler's method\n",
    "t_values, y_values = euler_method(dy_dt, t0, y0, h, num_steps)\n",
    "\n",
    "# Compute the analytical solution\n",
    "analytical_y_values = [analytical_solution(t) for t in t_values]\n",
    "\n",
    "# Calculate absolute and relative errors\n",
    "absolute_errors = [abs(analytical_y - numerical_y) for analytical_y, numerical_y in zip(analytical_y_values, y_values)]\n",
    "relative_errors = [abs((analytical_y - numerical_y) / analytical_y) for analytical_y, numerical_y in zip(analytical_y_values, y_values)]\n",
    "\n",
    "# Print the values of t, analytical solution, numerical solution, absolute error, and relative error\n",
    "print(\"t\\tAnalytical\\tNumerical\\tAbsolute Error\\tRelative Error\")\n",
    "for t, analytical_y, numerical_y, abs_error, rel_error in zip(t_values, analytical_y_values, y_values, absolute_errors, relative_errors):\n",
    "    print(f\"{t:.1f}\\t{analytical_y:.6f}\\t{numerical_y:.6f}\\t{abs_error:.6f}\\t{rel_error:.6f}\")\n"
   ]
  }
 ],
 "metadata": {
  "kernelspec": {
   "display_name": "Python 3",
   "language": "python",
   "name": "python3"
  },
  "language_info": {
   "codemirror_mode": {
    "name": "ipython",
    "version": 3
   },
   "file_extension": ".py",
   "mimetype": "text/x-python",
   "name": "python",
   "nbconvert_exporter": "python",
   "pygments_lexer": "ipython3",
   "version": "3.11.4"
  }
 },
 "nbformat": 4,
 "nbformat_minor": 2
}
