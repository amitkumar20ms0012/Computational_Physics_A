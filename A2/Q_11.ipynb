{
 "cells": [
  {
   "cell_type": "markdown",
   "metadata": {},
   "source": [
    "Q.11."
   ]
  },
  {
   "cell_type": "code",
   "execution_count": 3,
   "metadata": {},
   "outputs": [
    {
     "name": "stdout",
     "output_type": "stream",
     "text": [
      "Value of the solution at t = 3.5e6: 2.1448193236539677\n"
     ]
    }
   ],
   "source": [
    "def runge_kutta_4(dy_dt, t0, x0, tf, h):\n",
    "    t_values = [t0]\n",
    "    x_values = [x0]\n",
    "    t = t0\n",
    "    x = x0\n",
    "    \n",
    "    while t < tf:\n",
    "        k1 = h * dy_dt(t, x)\n",
    "        k2 = h * dy_dt(t + 0.5 * h, x + 0.5 * k1)\n",
    "        k3 = h * dy_dt(t + 0.5 * h, x + 0.5 * k2)\n",
    "        k4 = h * dy_dt(t + h, x + k3)\n",
    "        \n",
    "        x += (k1 + 2*k2 + 2*k3 + k4) / 6\n",
    "        t += h\n",
    "        \n",
    "        t_values.append(t)\n",
    "        x_values.append(x)\n",
    "    \n",
    "    return t_values, x_values\n",
    "\n",
    "# Define the differential equation dx/dt = 1/(x**2 + t**2)\n",
    "def dy_dt(t, x):\n",
    "    return 1 / (x**2 + t**2)\n",
    "\n",
    "# Set initial conditions\n",
    "t0 = 0\n",
    "x0 = 1\n",
    "tf = 3.5e6\n",
    "h = 0.1\n",
    "\n",
    "# Perform numerical integration using Runge-Kutta method\n",
    "t_values, x_values = runge_kutta_4(dy_dt, t0, x0, tf, h)\n",
    "\n",
    "# Extract the value of the solution at t = 3.5e6\n",
    "solution_at_3p5e6 = x_values[-1]\n",
    "print(\"Value of the solution at t = 3.5e6:\", solution_at_3p5e6)\n"
   ]
  }
 ],
 "metadata": {
  "kernelspec": {
   "display_name": "Python 3",
   "language": "python",
   "name": "python3"
  },
  "language_info": {
   "codemirror_mode": {
    "name": "ipython",
    "version": 3
   },
   "file_extension": ".py",
   "mimetype": "text/x-python",
   "name": "python",
   "nbconvert_exporter": "python",
   "pygments_lexer": "ipython3",
   "version": "3.11.4"
  }
 },
 "nbformat": 4,
 "nbformat_minor": 2
}
