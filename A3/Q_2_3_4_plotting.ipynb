{
 "cells": [
  {
   "cell_type": "code",
   "execution_count": null,
   "metadata": {},
   "outputs": [],
   "source": [
    "import numpy as np\n",
    "import matplotlib.pyplot as plt\n",
    "from scipy.fftpack import fft, fftshift\n",
    "\n",
    "# Define sinc function\n",
    "def sinc(x):\n",
    "    return np.sinc(x/np.pi)\n",
    "\n",
    "# Load data from file\n",
    "data = np.loadtxt(\"path_to_your_data_Q_2_fft_data.txt.txt\", dtype=np.float64, comments='#')\n",
    "\n",
    "# Extract data columns\n",
    "x_data = data[:, 0]\n",
    "f_data = data[:, 1]\n",
    "\n",
    "# Compute Fourier transform\n",
    "ft_data = fftshift(fft(f_data))\n",
    "\n",
    "# Define analytical Fourier transform of sinc function\n",
    "def box(k):\n",
    "    return 0.5 * np.sqrt(np.pi / 2.0) * (np.sign(k + 1) - np.sign(k - 1))\n",
    "\n",
    "# Plot sinc function and its Fourier transform\n",
    "fig, (ax1, ax2) = plt.subplots(1, 2, figsize=(12, 5))\n",
    "fig.suptitle(\"Fourier Transform of Sinc Function using FFTW\", fontsize=16)\n",
    "\n",
    "# Configuration space plot\n",
    "ax1.plot(x_data, f_data)\n",
    "ax1.set_title(\"Configuration Space\")\n",
    "ax1.set_xlabel(\"x\")\n",
    "ax1.set_ylabel(\"sinc(x)\")\n",
    "ax1.grid()\n",
    "\n",
    "# Fourier space plot\n",
    "ax2.plot(np.fft.fftshift(np.fft.fftfreq(len(x_data))), ft_data.real, label=\"Numerical\")\n",
    "ax2.plot(np.linspace(-5.0, 5.0, 500), box(np.linspace(-5.0, 5.0, 500)), color='red', label=\"Analytical\")\n",
    "ax2.set_title(\"Fourier Space\")\n",
    "ax2.set_xlabel(\"Frequency modes (k)\")\n",
    "ax2.set_ylabel(\"FT(sinc(x))\")\n",
    "ax2.set_xlim([-5.0, 5.0])\n",
    "ax2.grid()\n",
    "ax2.legend()\n",
    "\n",
    "plt.show()\n"
   ]
  }
 ],
 "metadata": {
  "kernelspec": {
   "display_name": "Python 3",
   "language": "python",
   "name": "python3"
  },
  "language_info": {
   "name": "python",
   "version": "3.11.4"
  }
 },
 "nbformat": 4,
 "nbformat_minor": 2
}
